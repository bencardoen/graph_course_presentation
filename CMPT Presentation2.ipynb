{
 "cells": [
  {
   "cell_type": "code",
   "execution_count": 1,
   "metadata": {},
   "outputs": [
    {
     "name": "stderr",
     "output_type": "stream",
     "text": [
      "\u001b[1m\u001b[36mINFO: \u001b[39m\u001b[22m\u001b[36mRecompiling stale cache file /home/bcardoen/.julia/lib/v0.6/Reactive.ji for module Reactive.\n",
      "\u001b[39m\u001b[1m\u001b[36mINFO: \u001b[39m\u001b[22m\u001b[36mPrecompiling module Interact.\n",
      "\u001b[39m"
     ]
    },
    {
     "data": {
      "text/html": [
       "<div id=\"interact-js-shim\">\n",
       "    <script charset=\"utf-8\">\n",
       "(function (IPython, $, _, MathJax) {\n",
       "    $.event.special.destroyed = {\n",
       "\tremove: function(o) {\n",
       "\t    if (o.handler) {\n",
       "\t\to.handler.apply(this, arguments)\n",
       "\t    }\n",
       "\t}\n",
       "    }\n",
       "\n",
       "    var OutputArea = IPython.version >= \"4.0.0\" ? require(\"notebook/js/outputarea\").OutputArea : IPython.OutputArea;\n",
       "\n",
       "    var redrawValue = function (container, type, val) {\n",
       "\tvar selector = $(\"<div/>\");\n",
       "\tvar oa = new OutputArea(_.extend(selector, {\n",
       "\t    selector: selector,\n",
       "\t    prompt_area: true,\n",
       "\t    events: IPython.events,\n",
       "\t    keyboard_manager: IPython.keyboard_manager\n",
       "\t})); // Hack to work with IPython 2.1.0\n",
       "\n",
       "\tswitch (type) {\n",
       "\tcase \"image/png\":\n",
       "            var _src = 'data:' + type + ';base64,' + val;\n",
       "\t    $(container).find(\"img\").attr('src', _src);\n",
       "\t    break;\n",
       "\tcase \"text/latex\":\n",
       "\t\tif (MathJax){\n",
       "\t\t\tvar math = MathJax.Hub.getAllJax(container)[0];\n",
       "\t\t\tMathJax.Hub.Queue([\"Text\", math, val.replace(/^\\${1,2}|\\${1,2}$/g, '')]);\n",
       "\t\t\tbreak;\n",
       "\t\t}\n",
       "\tdefault:\n",
       "\t    var toinsert = OutputArea.append_map[type].apply(\n",
       "\t\toa, [val, {}, selector]\n",
       "\t    );\n",
       "\t    $(container).empty().append(toinsert.contents());\n",
       "\t    selector.remove();\n",
       "\t}\n",
       "    }\n",
       "\n",
       "\n",
       "    $(document).ready(function() {\n",
       "\tfunction initComm(evt, data) {\n",
       "\t    var comm_manager = data.kernel.comm_manager;\n",
       "        //_.extend(comm_manager.targets, require(\"widgets/js/widget\"))\n",
       "\t    comm_manager.register_target(\"Signal\", function (comm) {\n",
       "            comm.on_msg(function (msg) {\n",
       "                var val = msg.content.data.value;\n",
       "                $(\".signal-\" + comm.comm_id).each(function() {\n",
       "                var type = $(this).data(\"type\");\n",
       "                if (typeof(val[type]) !== \"undefined\" && val[type] !== null) {\n",
       "                    redrawValue(this, type, val[type], type);\n",
       "                }\n",
       "                });\n",
       "                delete val;\n",
       "                delete msg.content.data.value;\n",
       "            });\n",
       "\t    });\n",
       "\n",
       "\t    // coordingate with Comm and redraw Signals\n",
       "\t    // XXX: Test using Reactive here to improve performance\n",
       "\t    $([IPython.events]).on(\n",
       "\t\t'output_appended.OutputArea', function (event, type, value, md, toinsert) {\n",
       "\t\t    if (md && md.reactive) {\n",
       "                // console.log(md.comm_id);\n",
       "                toinsert.addClass(\"signal-\" + md.comm_id);\n",
       "                toinsert.data(\"type\", type);\n",
       "                // Signal back indicating the mimetype required\n",
       "                var comm_manager = IPython.notebook.kernel.comm_manager;\n",
       "                var comm = comm_manager.comms[md.comm_id];\n",
       "                comm.then(function (c) {\n",
       "                    c.send({action: \"subscribe_mime\",\n",
       "                       mime: type});\n",
       "                    toinsert.bind(\"destroyed\", function() {\n",
       "                        c.send({action: \"unsubscribe_mime\",\n",
       "                               mime: type});\n",
       "                    });\n",
       "                })\n",
       "\t\t    }\n",
       "\t    });\n",
       "\t}\n",
       "\n",
       "\ttry {\n",
       "\t    // try to initialize right away. otherwise, wait on the status_started event.\n",
       "\t    initComm(undefined, IPython.notebook);\n",
       "\t} catch (e) {\n",
       "\t    $([IPython.events]).on('kernel_created.Kernel kernel_created.Session', initComm);\n",
       "\t}\n",
       "    });\n",
       "})(IPython, jQuery, _, MathJax);\n",
       "</script>\n",
       "    <script>\n",
       "        window.interactLoadedFlag = true\n",
       "       $(\"#interact-js-shim\").bind(\"destroyed\", function () {\n",
       "           if (window.interactLoadedFlag) {\n",
       "               console.warn(\"JavaScript required by Interact will be removed if you remove this cell or run using Interact more than once.\")\n",
       "           }\n",
       "       })\n",
       "       $([IPython.events]).on(\"kernel_starting.Kernel kernel_restarting.Kernel\", function () { window.interactLoadedFlag = false })\n",
       "   </script>\n",
       "</div>"
      ]
     },
     "metadata": {},
     "output_type": "display_data"
    }
   ],
   "source": [
    "using Plots\n",
    "using SpecialFunctions\n",
    "using Reactive, Interact"
   ]
  },
  {
   "cell_type": "code",
   "execution_count": 24,
   "metadata": {},
   "outputs": [
    {
     "data": {
      "application/vnd.jupyter.widget-view+json": {
       "model_id": "f7a6e811-f894-4349-bdd3-b4d79f0fdc7b",
       "version_major": 2,
       "version_minor": 0
      }
     },
     "metadata": {},
     "output_type": "display_data"
    },
    {
     "data": {
      "text/html": [],
      "text/plain": [
       "Interact.Options{:SelectionSlider,Any}(89: \"input-27\" = 5 Any , \"d\", 5, \"5\", 5, Interact.OptionDict(DataStructures.OrderedDict{Any,Any}(\"1\"=>1,\"2\"=>2,\"3\"=>3,\"4\"=>4,\"5\"=>5,\"6\"=>6,\"7\"=>7,\"8\"=>8,\"9\"=>9,\"10\"=>10…), Dict{Any,Any}(Pair{Any,Any}(7, \"7\"),Pair{Any,Any}(4, \"4\"),Pair{Any,Any}(9, \"9\"),Pair{Any,Any}(10, \"10\"),Pair{Any,Any}(2, \"2\"),Pair{Any,Any}(3, \"3\"),Pair{Any,Any}(5, \"5\"),Pair{Any,Any}(8, \"8\"),Pair{Any,Any}(6, \"6\"),Pair{Any,Any}(1, \"1\")…)), Any[], Any[], true, \"horizontal\")"
      ]
     },
     "metadata": {},
     "output_type": "display_data"
    },
    {
     "data": {
      "application/vnd.jupyter.widget-view+json": {
       "model_id": "c24a841d-7fb2-4d80-aa2c-76785aff0e3b",
       "version_major": 2,
       "version_minor": 0
      }
     },
     "metadata": {},
     "output_type": "display_data"
    },
    {
     "data": {
      "text/html": [],
      "text/plain": [
       "Interact.Options{:SelectionSlider,Any}(91: \"input-28\" = 1500 Any , \"AE\", 1500, \"1500\", 501, Interact.OptionDict(DataStructures.OrderedDict{Any,Any}(\"1000\"=>1000,\"1001\"=>1001,\"1002\"=>1002,\"1003\"=>1003,\"1004\"=>1004,\"1005\"=>1005,\"1006\"=>1006,\"1007\"=>1007,\"1008\"=>1008,\"1009\"=>1009…), Dict{Any,Any}(Pair{Any,Any}(1704, \"1704\"),Pair{Any,Any}(1760, \"1760\"),Pair{Any,Any}(1316, \"1316\"),Pair{Any,Any}(1090, \"1090\"),Pair{Any,Any}(1333, \"1333\"),Pair{Any,Any}(1671, \"1671\"),Pair{Any,Any}(1131, \"1131\"),Pair{Any,Any}(1662, \"1662\"),Pair{Any,Any}(1265, \"1265\"),Pair{Any,Any}(1469, \"1469\")…)), Any[], Any[], true, \"horizontal\")"
      ]
     },
     "metadata": {},
     "output_type": "display_data"
    },
    {
     "data": {
      "text/html": [
       "<script src=\"file:///home/bcardoen/.julia/v0.6/Plots/src/backends/../../deps/plotly-latest.min.js\"></script>    <div id=\"3ffa4fc2-37d8-494c-9c59-58fede31b34b\" style=\"width:600px;height:400px;\"></div>\n",
       "    <script>\n",
       "    PLOT = document.getElementById('3ffa4fc2-37d8-494c-9c59-58fede31b34b');\n",
       "    Plotly.plot(PLOT, [{\"showlegend\":true,\"mode\":\"lines\",\"xaxis\":\"x\",\"colorbar\":{\"title\":\"\"},\"line\":{\"color\":\"rgba(0, 154, 250, 1.000)\",\"shape\":\"linear\",\"dash\":\"solid\",\"width\":1},\"y\":[2.0,1.5632183908045978,1.392,1.3006134969325154,1.2437810945273633,1.205020920502092,1.1768953068592058,1.1555555555555554,1.1388101983002832,1.1253196930946292,1.1142191142191142,1.1049250535331905,1.0970297029702971,1.0902394106813997,1.0843373493975903,1.0791599353796446,1.0745814307458144,1.0705035971223023,1.0668485675306958,1.0635538261997406,1.0605686032138442,1.0578512396694215,1.0553672316384182,1.0530877573131094,1.0509885535900103,1.049049049049049,1.04725168756027,1.0455813953488373,1.0440251572327044,1.0425716768027802,1.04121110176619,1.0399348003259983,1.0387351778656126,1.0376055257099002,1.0365398956002982,1.0355329949238579,1.0345800988002822,1.0336769759450173,1.0328198258539854,1.032005225342913,1.0312300828553218,1.030491599253267,1.0297872340425531,1.0291146761734997,1.0284718187100523,1.0278567367822626,1.0272676683361157,1.0267029972752044,1.0261612386545649,1.0256410256410255],\"type\":\"scatter\",\"name\":\"Gain/Cost\",\"yaxis\":\"y\",\"x\":[10.0,13.877551020408163,17.755102040816325,21.632653061224488,25.510204081632654,29.387755102040817,33.265306122448976,37.142857142857146,41.02040816326531,44.89795918367347,48.775510204081634,52.6530612244898,56.53061224489796,60.40816326530612,64.28571428571429,68.16326530612245,72.04081632653062,75.91836734693878,79.79591836734694,83.6734693877551,87.55102040816327,91.42857142857143,95.3061224489796,99.18367346938776,103.06122448979592,106.93877551020408,110.81632653061224,114.6938775510204,118.57142857142857,122.44897959183673,126.3265306122449,130.20408163265307,134.08163265306123,137.9591836734694,141.83673469387756,145.71428571428572,149.59183673469389,153.46938775510205,157.3469387755102,161.22448979591837,165.10204081632654,168.9795918367347,172.85714285714286,176.73469387755102,180.6122448979592,184.48979591836735,188.3673469387755,192.24489795918367,196.12244897959184,200.0]},{\"showlegend\":true,\"mode\":\"lines\",\"xaxis\":\"x\",\"colorbar\":{\"title\":\"\"},\"line\":{\"color\":\"rgba(227, 111, 71, 1.000)\",\"shape\":\"linear\",\"dash\":\"solid\",\"width\":1},\"y\":[1.3333333333333333,1.3333333333333333,1.3333333333333333,1.3333333333333333,1.3333333333333333,1.3333333333333333,1.3333333333333333,1.3333333333333333,1.3333333333333333,1.3333333333333333,1.3333333333333333,1.3333333333333333,1.3333333333333333,1.3333333333333333,1.3333333333333333,1.3333333333333333,1.3333333333333333,1.3333333333333333,1.3333333333333333,1.3333333333333333,1.3333333333333333,1.3333333333333333,1.3333333333333333,1.3333333333333333,1.3333333333333333,1.3333333333333333,1.3333333333333333,1.3333333333333333,1.3333333333333333,1.3333333333333333,1.3333333333333333,1.3333333333333333,1.3333333333333333,1.3333333333333333,1.3333333333333333,1.3333333333333333,1.3333333333333333,1.3333333333333333,1.3333333333333333,1.3333333333333333,1.3333333333333333,1.3333333333333333,1.3333333333333333,1.3333333333333333,1.3333333333333333,1.3333333333333333,1.3333333333333333,1.3333333333333333,1.3333333333333333,1.3333333333333333],\"type\":\"scatter\",\"name\":\"E/AE\",\"yaxis\":\"y\",\"x\":[10.0,13.877551020408163,17.755102040816325,21.632653061224488,25.510204081632654,29.387755102040817,33.265306122448976,37.142857142857146,41.02040816326531,44.89795918367347,48.775510204081634,52.6530612244898,56.53061224489796,60.40816326530612,64.28571428571429,68.16326530612245,72.04081632653062,75.91836734693878,79.79591836734694,83.6734693877551,87.55102040816327,91.42857142857143,95.3061224489796,99.18367346938776,103.06122448979592,106.93877551020408,110.81632653061224,114.6938775510204,118.57142857142857,122.44897959183673,126.3265306122449,130.20408163265307,134.08163265306123,137.9591836734694,141.83673469387756,145.71428571428572,149.59183673469389,153.46938775510205,157.3469387755102,161.22448979591837,165.10204081632654,168.9795918367347,172.85714285714286,176.73469387755102,180.6122448979592,184.48979591836735,188.3673469387755,192.24489795918367,196.12244897959184,200.0]}], {\"showlegend\":true,\"xaxis\":{\"showticklabels\":true,\"gridwidth\":0.5,\"tickvals\":[50.0,100.0,150.0,200.0],\"visible\":true,\"ticks\":\"inside\",\"range\":[10.0,200.0],\"domain\":[0.07646908719743364,0.9934383202099737],\"tickmode\":\"array\",\"linecolor\":\"rgba(0, 0, 0, 1.000)\",\"showgrid\":true,\"title\":\"Regular Iteration After 5 shadow iterations\",\"mirror\":false,\"tickangle\":0,\"showline\":true,\"gridcolor\":\"rgba(0, 0, 0, 0.100)\",\"titlefont\":{\"color\":\"rgba(0, 0, 0, 1.000)\",\"family\":\"sans-serif\",\"size\":15},\"tickcolor\":\"rgb(0, 0, 0)\",\"ticktext\":[\"50\",\"100\",\"150\",\"200\"],\"zeroline\":false,\"type\":\"-\",\"tickfont\":{\"color\":\"rgba(0, 0, 0, 1.000)\",\"family\":\"sans-serif\",\"size\":11},\"zerolinecolor\":\"rgba(0, 0, 0, 1.000)\",\"anchor\":\"y\"},\"paper_bgcolor\":\"rgba(255, 255, 255, 1.000)\",\"annotations\":[],\"height\":400,\"margin\":{\"l\":0,\"b\":20,\"r\":0,\"t\":20},\"plot_bgcolor\":\"rgba(255, 255, 255, 1.000)\",\"yaxis\":{\"showticklabels\":true,\"gridwidth\":0.5,\"tickvals\":[1.2000000000000002,1.4000000000000001,1.6,1.8,2.0],\"visible\":true,\"ticks\":\"inside\",\"range\":[1.0256410256410255,2.0],\"domain\":[0.07581474190726165,0.9901574803149606],\"tickmode\":\"array\",\"linecolor\":\"rgba(0, 0, 0, 1.000)\",\"showgrid\":true,\"title\":\"Ratio gain/cost\",\"mirror\":false,\"tickangle\":0,\"showline\":true,\"gridcolor\":\"rgba(0, 0, 0, 0.100)\",\"titlefont\":{\"color\":\"rgba(0, 0, 0, 1.000)\",\"family\":\"sans-serif\",\"size\":15},\"tickcolor\":\"rgb(0, 0, 0)\",\"ticktext\":[\"1.2\",\"1.4\",\"1.6\",\"1.8\",\"2.0\"],\"zeroline\":false,\"type\":\"-\",\"tickfont\":{\"color\":\"rgba(0, 0, 0, 1.000)\",\"family\":\"sans-serif\",\"size\":11},\"zerolinecolor\":\"rgba(0, 0, 0, 1.000)\",\"anchor\":\"x\"},\"legend\":{\"bordercolor\":\"rgba(0, 0, 0, 1.000)\",\"bgcolor\":\"rgba(255, 255, 255, 1.000)\",\"font\":{\"color\":\"rgba(0, 0, 0, 1.000)\",\"family\":\"sans-serif\",\"size\":11},\"y\":1.0,\"x\":1.0},\"width\":600});\n",
       "    </script>\n"
      ]
     },
     "execution_count": 24,
     "metadata": {
      "comm_id": "d0389317-68a1-4029-bfd5-45880591bb8a",
      "reactive": true
     },
     "output_type": "execute_result"
    }
   ],
   "source": [
    "# m = readdlm(\"data.txt\")\n",
    "# cell_count, value_count = size(m)\n",
    "# X = 1:value_count\n",
    "# Ys = [ copy(m[i,:]) for i in 1:cell_count];\n",
    "# results = [(0,0) for i in 1:length(Ys)]\n",
    "E = 2000\n",
    "function ratio(d, i)\n",
    "    return (i/d)/((i/d)-1)\n",
    "end\n",
    "X = linspace(10,200)\n",
    "plotly()\n",
    "@manipulate for d in 1:10, AE in 1000:2000\n",
    "    Y = [[ratio(d, i) for i in X],[E/AE for i in X]]\n",
    "    plot(X, Y, xlabel=\"Regular Iteration After $d shadow iterations\", ylabel=\"Ratio gain/cost\", label=[\"Gain/Cost\" \"E/AE\"])\n",
    "end"
   ]
  },
  {
   "cell_type": "code",
   "execution_count": null,
   "metadata": {},
   "outputs": [],
   "source": []
  }
 ],
 "metadata": {
  "kernelspec": {
   "display_name": "Julia 0.6.0",
   "language": "julia",
   "name": "julia-0.6"
  },
  "language_info": {
   "file_extension": ".jl",
   "mimetype": "application/julia",
   "name": "julia",
   "version": "0.6.0"
  }
 },
 "nbformat": 4,
 "nbformat_minor": 2
}
